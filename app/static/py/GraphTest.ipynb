{
 "metadata": {
  "name": "",
  "signature": "sha256:46c6852d3e9b03a6313a96d999dd5cb74e95c346a35ffbea54a8ae15d962fcc7"
 },
 "nbformat": 3,
 "nbformat_minor": 0,
 "worksheets": [
  {
   "cells": [
    {
     "cell_type": "code",
     "collapsed": false,
     "input": [
      "from Vertex import Vertex\n",
      "from Graph import Graph\n",
      "\n",
      "#Test            \n",
      "g = Graph()\n",
      "g.addEdge((0, 0),(0, 1),5, 3) \n",
      "g.addEdge((0, 0),(0, 5),2, 2)\n",
      "g.addEdge((0, 1),(0, 2),4)\n",
      "g.addEdge((0, 2),(0, 3),9)\n",
      "g.addEdge((0, 3),(0, 4),7)\n",
      "print g\n",
      "\n",
      "g.removeVertex((0, 1))\n",
      "print 'vertex (0, 1) removed'\n",
      "print g\n",
      "[dis, score] = g.removeEdge((0, 0), (0, 5))\n",
      "print 'edge (0, 0) -> (0, 5) removed'\n",
      "print dis\n",
      "print score\n",
      "print g\n",
      "newV = Vertex((0, 9))\n",
      "newV.addNeighbor((1, 3), 7, 7)\n",
      "g.deepCopyVertex(newV)\n",
      "print 'new vertex added'\n",
      "print newV\n",
      "print 'now the graph is'\n",
      "print g\n"
     ],
     "language": "python",
     "metadata": {},
     "outputs": [
      {
       "output_type": "stream",
       "stream": "stdout",
       "text": [
        "(0, 1) connectedTo: (0, 0) d=5, s=3; (0, 2) d=4, s=0; \n",
        "(0, 0) connectedTo: (0, 1) d=5, s=3; (0, 5) d=2, s=2; \n",
        "(0, 5) connectedTo: (0, 0) d=2, s=2; \n",
        "(0, 4) connectedTo: (0, 3) d=7, s=0; \n",
        "(0, 3) connectedTo: (0, 2) d=9, s=0; (0, 4) d=7, s=0; \n",
        "(0, 2) connectedTo: (0, 1) d=4, s=0; (0, 3) d=9, s=0; \n",
        "\n",
        "vertex (0, 1) removed\n",
        "(0, 0) connectedTo: (0, 1) d=5, s=3; (0, 5) d=2, s=2; \n",
        "(0, 5) connectedTo: (0, 0) d=2, s=2; \n",
        "(0, 4) connectedTo: (0, 3) d=7, s=0; \n",
        "(0, 3) connectedTo: (0, 2) d=9, s=0; (0, 4) d=7, s=0; \n",
        "(0, 2) connectedTo: (0, 1) d=4, s=0; (0, 3) d=9, s=0; \n",
        "\n",
        "edge (0, 0) -> (0, 5) removed\n",
        "2\n",
        "2\n",
        "(0, 0) connectedTo: (0, 1) d=5, s=3; \n",
        "(0, 5) connectedTo: (0, 0) d=2, s=2; \n",
        "(0, 4) connectedTo: (0, 3) d=7, s=0; \n",
        "(0, 3) connectedTo: (0, 2) d=9, s=0; (0, 4) d=7, s=0; \n",
        "(0, 2) connectedTo: (0, 1) d=4, s=0; (0, 3) d=9, s=0; \n",
        "\n",
        "new vertex added\n",
        "(0, 9) connectedTo: (1, 3) d=7, s=7; \n",
        "now the graph is\n",
        "(0, 0) connectedTo: (0, 1) d=5, s=3; \n",
        "(0, 5) connectedTo: (0, 0) d=2, s=2; \n",
        "(0, 4) connectedTo: (0, 3) d=7, s=0; \n",
        "(0, 9) connectedTo: (1, 3) d=7, s=7; \n",
        "(0, 3) connectedTo: (0, 2) d=9, s=0; (0, 4) d=7, s=0; \n",
        "(0, 2) connectedTo: (0, 1) d=4, s=0; (0, 3) d=9, s=0; \n",
        "\n"
       ]
      }
     ],
     "prompt_number": 1
    },
    {
     "cell_type": "code",
     "collapsed": false,
     "input": [],
     "language": "python",
     "metadata": {},
     "outputs": [],
     "prompt_number": 1
    },
    {
     "cell_type": "code",
     "collapsed": false,
     "input": [],
     "language": "python",
     "metadata": {},
     "outputs": []
    }
   ],
   "metadata": {}
  }
 ]
}